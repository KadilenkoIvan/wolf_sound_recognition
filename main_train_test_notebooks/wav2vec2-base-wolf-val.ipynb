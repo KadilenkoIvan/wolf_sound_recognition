{
 "cells": [
  {
   "cell_type": "code",
   "execution_count": 1,
   "id": "6b0a5938",
   "metadata": {
    "_cell_guid": "b1076dfc-b9ad-4769-8c92-a6c4dae69d19",
    "_uuid": "8f2839f25d086af736a60e9eeb907d3b93b6e0e5",
    "execution": {
     "iopub.execute_input": "2024-07-31T04:49:36.013283Z",
     "iopub.status.busy": "2024-07-31T04:49:36.012318Z",
     "iopub.status.idle": "2024-07-31T04:49:43.031458Z",
     "shell.execute_reply": "2024-07-31T04:49:43.030463Z"
    },
    "papermill": {
     "duration": 7.030721,
     "end_time": "2024-07-31T04:49:43.033997",
     "exception": false,
     "start_time": "2024-07-31T04:49:36.003276",
     "status": "completed"
    },
    "tags": []
   },
   "outputs": [],
   "source": [
    "import os\n",
    "import numpy as np\n",
    "import pandas as pd\n",
    "import torch\n",
    "import torchaudio\n",
    "import librosa\n",
    "import random\n",
    "import matplotlib.pyplot as plt\n",
    "from IPython.display import Audio\n",
    "from IPython.display import FileLink\n",
    "from torch.utils.data import Dataset\n",
    "from torch.utils.data import DataLoader\n",
    "from torch import nn\n",
    "from tqdm.notebook import tqdm\n",
    "from pathlib import Path\n",
    "from sklearn.model_selection import train_test_split\n",
    "from sklearn.metrics import precision_score, recall_score, f1_score\n",
    "from sklearn.metrics import precision_recall_fscore_support"
   ]
  },
  {
   "cell_type": "code",
   "execution_count": 2,
   "id": "2507c89e",
   "metadata": {
    "execution": {
     "iopub.execute_input": "2024-07-31T04:49:43.051118Z",
     "iopub.status.busy": "2024-07-31T04:49:43.050597Z",
     "iopub.status.idle": "2024-07-31T04:49:43.058632Z",
     "shell.execute_reply": "2024-07-31T04:49:43.057561Z"
    },
    "papermill": {
     "duration": 0.019353,
     "end_time": "2024-07-31T04:49:43.061107",
     "exception": false,
     "start_time": "2024-07-31T04:49:43.041754",
     "status": "completed"
    },
    "tags": []
   },
   "outputs": [],
   "source": [
    "# Функция для создания DataFrame с подклассами, на основе имён директорий\n",
    "def collect_file_info(root_dir):\n",
    "    file_info = []\n",
    "    for main_class in os.listdir(root_dir):\n",
    "        main_class_path = os.path.join(root_dir, main_class)\n",
    "        if os.path.isdir(main_class_path):\n",
    "            for file_name in os.listdir(main_class_path):\n",
    "                file_path = os.path.join(main_class_path, file_name)\n",
    "                if os.path.isfile(file_path):\n",
    "                    file_info.append({\n",
    "                        'path': file_path,\n",
    "                        'label': main_class,\n",
    "                        'sub_class': main_class\n",
    "                    })\n",
    "    \n",
    "    return file_info"
   ]
  },
  {
   "cell_type": "code",
   "execution_count": 3,
   "id": "f9a3bed1",
   "metadata": {
    "execution": {
     "iopub.execute_input": "2024-07-31T04:49:43.077625Z",
     "iopub.status.busy": "2024-07-31T04:49:43.077213Z",
     "iopub.status.idle": "2024-07-31T04:49:43.216982Z",
     "shell.execute_reply": "2024-07-31T04:49:43.215920Z"
    },
    "papermill": {
     "duration": 0.150919,
     "end_time": "2024-07-31T04:49:43.219432",
     "exception": false,
     "start_time": "2024-07-31T04:49:43.068513",
     "status": "completed"
    },
    "tags": []
   },
   "outputs": [
    {
     "data": {
      "text/plain": [
       "array(['wolf', 'dog', 'negative'], dtype=object)"
      ]
     },
     "execution_count": 3,
     "metadata": {},
     "output_type": "execute_result"
    }
   ],
   "source": [
    "# Путь до корневой папки датасета и создание DataFrame\n",
    "root_dir = '/kaggle/input/wolf-dog-val/val_dataset'\n",
    "file_info = collect_file_info(root_dir)\n",
    "df = pd.DataFrame(file_info)\n",
    "df['label'].unique()"
   ]
  },
  {
   "cell_type": "code",
   "execution_count": 4,
   "id": "76688e9c",
   "metadata": {
    "execution": {
     "iopub.execute_input": "2024-07-31T04:49:43.236247Z",
     "iopub.status.busy": "2024-07-31T04:49:43.235858Z",
     "iopub.status.idle": "2024-07-31T04:49:43.261116Z",
     "shell.execute_reply": "2024-07-31T04:49:43.259950Z"
    },
    "papermill": {
     "duration": 0.036775,
     "end_time": "2024-07-31T04:49:43.263820",
     "exception": false,
     "start_time": "2024-07-31T04:49:43.227045",
     "status": "completed"
    },
    "tags": []
   },
   "outputs": [
    {
     "name": "stdout",
     "output_type": "stream",
     "text": [
      "Количество элементов в каждом классе:\n",
      "label\n",
      "negative    364\n",
      "dog         349\n",
      "wolf        193\n",
      "Name: count, dtype: int64\n"
     ]
    },
    {
     "data": {
      "text/html": [
       "<div>\n",
       "<style scoped>\n",
       "    .dataframe tbody tr th:only-of-type {\n",
       "        vertical-align: middle;\n",
       "    }\n",
       "\n",
       "    .dataframe tbody tr th {\n",
       "        vertical-align: top;\n",
       "    }\n",
       "\n",
       "    .dataframe thead th {\n",
       "        text-align: right;\n",
       "    }\n",
       "</style>\n",
       "<table border=\"1\" class=\"dataframe\">\n",
       "  <thead>\n",
       "    <tr style=\"text-align: right;\">\n",
       "      <th></th>\n",
       "      <th>path</th>\n",
       "      <th>label</th>\n",
       "      <th>sub_class</th>\n",
       "    </tr>\n",
       "  </thead>\n",
       "  <tbody>\n",
       "    <tr>\n",
       "      <th>0</th>\n",
       "      <td>/kaggle/input/wolf-dog-val/val_dataset/wolf/wo...</td>\n",
       "      <td>wolf</td>\n",
       "      <td>wolf</td>\n",
       "    </tr>\n",
       "    <tr>\n",
       "      <th>1</th>\n",
       "      <td>/kaggle/input/wolf-dog-val/val_dataset/wolf/wo...</td>\n",
       "      <td>wolf</td>\n",
       "      <td>wolf</td>\n",
       "    </tr>\n",
       "    <tr>\n",
       "      <th>2</th>\n",
       "      <td>/kaggle/input/wolf-dog-val/val_dataset/wolf/wo...</td>\n",
       "      <td>wolf</td>\n",
       "      <td>wolf</td>\n",
       "    </tr>\n",
       "    <tr>\n",
       "      <th>3</th>\n",
       "      <td>/kaggle/input/wolf-dog-val/val_dataset/wolf/wo...</td>\n",
       "      <td>wolf</td>\n",
       "      <td>wolf</td>\n",
       "    </tr>\n",
       "    <tr>\n",
       "      <th>4</th>\n",
       "      <td>/kaggle/input/wolf-dog-val/val_dataset/wolf/wo...</td>\n",
       "      <td>wolf</td>\n",
       "      <td>wolf</td>\n",
       "    </tr>\n",
       "  </tbody>\n",
       "</table>\n",
       "</div>"
      ],
      "text/plain": [
       "                                                path label sub_class\n",
       "0  /kaggle/input/wolf-dog-val/val_dataset/wolf/wo...  wolf      wolf\n",
       "1  /kaggle/input/wolf-dog-val/val_dataset/wolf/wo...  wolf      wolf\n",
       "2  /kaggle/input/wolf-dog-val/val_dataset/wolf/wo...  wolf      wolf\n",
       "3  /kaggle/input/wolf-dog-val/val_dataset/wolf/wo...  wolf      wolf\n",
       "4  /kaggle/input/wolf-dog-val/val_dataset/wolf/wo...  wolf      wolf"
      ]
     },
     "execution_count": 4,
     "metadata": {},
     "output_type": "execute_result"
    }
   ],
   "source": [
    "class_counts = df['label'].value_counts()\n",
    "print(\"Количество элементов в каждом классе:\")\n",
    "print(class_counts)\n",
    "df.head(5)"
   ]
  },
  {
   "cell_type": "code",
   "execution_count": 5,
   "id": "179f2dec",
   "metadata": {
    "execution": {
     "iopub.execute_input": "2024-07-31T04:49:43.281514Z",
     "iopub.status.busy": "2024-07-31T04:49:43.280806Z",
     "iopub.status.idle": "2024-07-31T04:49:43.299892Z",
     "shell.execute_reply": "2024-07-31T04:49:43.298894Z"
    },
    "papermill": {
     "duration": 0.03086,
     "end_time": "2024-07-31T04:49:43.302495",
     "exception": false,
     "start_time": "2024-07-31T04:49:43.271635",
     "status": "completed"
    },
    "tags": []
   },
   "outputs": [],
   "source": [
    "df.to_csv('file_info.csv', index=False)\n",
    "df = pd.read_csv(\"/kaggle/working/file_info.csv\")"
   ]
  },
  {
   "cell_type": "code",
   "execution_count": 6,
   "id": "ed945ecb",
   "metadata": {
    "execution": {
     "iopub.execute_input": "2024-07-31T04:49:43.320305Z",
     "iopub.status.busy": "2024-07-31T04:49:43.319905Z",
     "iopub.status.idle": "2024-07-31T04:49:43.327049Z",
     "shell.execute_reply": "2024-07-31T04:49:43.325898Z"
    },
    "papermill": {
     "duration": 0.019347,
     "end_time": "2024-07-31T04:49:43.330009",
     "exception": false,
     "start_time": "2024-07-31T04:49:43.310662",
     "status": "completed"
    },
    "tags": []
   },
   "outputs": [
    {
     "name": "stdout",
     "output_type": "stream",
     "text": [
      "\n",
      "Class dictionary:\n",
      "{'wolf': 2, 'dog': 1, 'negative': 0}\n"
     ]
    }
   ],
   "source": [
    "# Создания словаря для преобразования меток классов числовые значения\n",
    "class_names = df['label'].unique()\n",
    "class_dict = {class_name: idx for idx, class_name in enumerate(class_names)}\n",
    "class_dict = {'wolf': 2, 'dog': 1, 'negative': 0}\n",
    "print(\"\\nClass dictionary:\")\n",
    "print(class_dict)"
   ]
  },
  {
   "cell_type": "code",
   "execution_count": 7,
   "id": "93b6e2b1",
   "metadata": {
    "execution": {
     "iopub.execute_input": "2024-07-31T04:49:43.348646Z",
     "iopub.status.busy": "2024-07-31T04:49:43.347347Z",
     "iopub.status.idle": "2024-07-31T04:49:43.369290Z",
     "shell.execute_reply": "2024-07-31T04:49:43.368102Z"
    },
    "papermill": {
     "duration": 0.033863,
     "end_time": "2024-07-31T04:49:43.371994",
     "exception": false,
     "start_time": "2024-07-31T04:49:43.338131",
     "status": "completed"
    },
    "tags": []
   },
   "outputs": [
    {
     "name": "stdout",
     "output_type": "stream",
     "text": [
      "label\n",
      "negative    364\n",
      "dog         349\n",
      "wolf        193\n",
      "Name: count, dtype: int64\n",
      "label\n",
      "0    364\n",
      "1    349\n",
      "2    193\n",
      "Name: count, dtype: int64\n"
     ]
    },
    {
     "data": {
      "text/html": [
       "<div>\n",
       "<style scoped>\n",
       "    .dataframe tbody tr th:only-of-type {\n",
       "        vertical-align: middle;\n",
       "    }\n",
       "\n",
       "    .dataframe tbody tr th {\n",
       "        vertical-align: top;\n",
       "    }\n",
       "\n",
       "    .dataframe thead th {\n",
       "        text-align: right;\n",
       "    }\n",
       "</style>\n",
       "<table border=\"1\" class=\"dataframe\">\n",
       "  <thead>\n",
       "    <tr style=\"text-align: right;\">\n",
       "      <th></th>\n",
       "      <th>path</th>\n",
       "      <th>label</th>\n",
       "      <th>sub_class</th>\n",
       "    </tr>\n",
       "  </thead>\n",
       "  <tbody>\n",
       "    <tr>\n",
       "      <th>0</th>\n",
       "      <td>/kaggle/input/wolf-dog-val/val_dataset/wolf/wo...</td>\n",
       "      <td>2</td>\n",
       "      <td>wolf</td>\n",
       "    </tr>\n",
       "    <tr>\n",
       "      <th>1</th>\n",
       "      <td>/kaggle/input/wolf-dog-val/val_dataset/wolf/wo...</td>\n",
       "      <td>2</td>\n",
       "      <td>wolf</td>\n",
       "    </tr>\n",
       "    <tr>\n",
       "      <th>2</th>\n",
       "      <td>/kaggle/input/wolf-dog-val/val_dataset/wolf/wo...</td>\n",
       "      <td>2</td>\n",
       "      <td>wolf</td>\n",
       "    </tr>\n",
       "    <tr>\n",
       "      <th>3</th>\n",
       "      <td>/kaggle/input/wolf-dog-val/val_dataset/wolf/wo...</td>\n",
       "      <td>2</td>\n",
       "      <td>wolf</td>\n",
       "    </tr>\n",
       "    <tr>\n",
       "      <th>4</th>\n",
       "      <td>/kaggle/input/wolf-dog-val/val_dataset/wolf/wo...</td>\n",
       "      <td>2</td>\n",
       "      <td>wolf</td>\n",
       "    </tr>\n",
       "  </tbody>\n",
       "</table>\n",
       "</div>"
      ],
      "text/plain": [
       "                                                path  label sub_class\n",
       "0  /kaggle/input/wolf-dog-val/val_dataset/wolf/wo...      2      wolf\n",
       "1  /kaggle/input/wolf-dog-val/val_dataset/wolf/wo...      2      wolf\n",
       "2  /kaggle/input/wolf-dog-val/val_dataset/wolf/wo...      2      wolf\n",
       "3  /kaggle/input/wolf-dog-val/val_dataset/wolf/wo...      2      wolf\n",
       "4  /kaggle/input/wolf-dog-val/val_dataset/wolf/wo...      2      wolf"
      ]
     },
     "execution_count": 7,
     "metadata": {},
     "output_type": "execute_result"
    }
   ],
   "source": [
    "print(df['label'].value_counts())\n",
    "df['label'] = df['label'].map(class_dict)\n",
    "print(df['label'].value_counts())\n",
    "df.head(5)"
   ]
  },
  {
   "cell_type": "code",
   "execution_count": 8,
   "id": "840889a5",
   "metadata": {
    "execution": {
     "iopub.execute_input": "2024-07-31T04:49:43.390935Z",
     "iopub.status.busy": "2024-07-31T04:49:43.390547Z",
     "iopub.status.idle": "2024-07-31T04:49:43.414269Z",
     "shell.execute_reply": "2024-07-31T04:49:43.413086Z"
    },
    "papermill": {
     "duration": 0.036264,
     "end_time": "2024-07-31T04:49:43.416776",
     "exception": false,
     "start_time": "2024-07-31T04:49:43.380512",
     "status": "completed"
    },
    "tags": []
   },
   "outputs": [
    {
     "name": "stdout",
     "output_type": "stream",
     "text": [
      "193 193 193\n"
     ]
    },
    {
     "data": {
      "text/plain": [
       "label\n",
       "0    193\n",
       "1    193\n",
       "2    193\n",
       "Name: count, dtype: int64"
      ]
     },
     "execution_count": 8,
     "metadata": {},
     "output_type": "execute_result"
    }
   ],
   "source": [
    "# Балансировка количества сэмплов по классам\n",
    "wolf_count = df[df['label'] == 2].shape[0]\n",
    "balanced_negative = df[df['label'] == 0].sample(wolf_count, random_state=42)\n",
    "balanced_dog = df[df['label'] == 1].sample(wolf_count, random_state=42)\n",
    "balanced_wolf = df[df['label'] == 2]\n",
    "balanced_df = pd.concat([balanced_negative, balanced_dog, balanced_wolf]).reset_index(drop=True)\n",
    "print(len(balanced_negative), len(balanced_dog), len(balanced_wolf))\n",
    "balanced_df['label'].value_counts()"
   ]
  },
  {
   "cell_type": "code",
   "execution_count": 9,
   "id": "9ede348d",
   "metadata": {
    "execution": {
     "iopub.execute_input": "2024-07-31T04:49:43.435749Z",
     "iopub.status.busy": "2024-07-31T04:49:43.434980Z",
     "iopub.status.idle": "2024-07-31T04:49:43.443458Z",
     "shell.execute_reply": "2024-07-31T04:49:43.442395Z"
    },
    "papermill": {
     "duration": 0.02042,
     "end_time": "2024-07-31T04:49:43.445891",
     "exception": false,
     "start_time": "2024-07-31T04:49:43.425471",
     "status": "completed"
    },
    "tags": []
   },
   "outputs": [
    {
     "data": {
      "text/plain": [
       "label\n",
       "0    193\n",
       "1    193\n",
       "2    193\n",
       "Name: count, dtype: int64"
      ]
     },
     "execution_count": 9,
     "metadata": {},
     "output_type": "execute_result"
    }
   ],
   "source": [
    "data = balanced_df\n",
    "data['label'].value_counts()"
   ]
  },
  {
   "cell_type": "code",
   "execution_count": 10,
   "id": "515899e9",
   "metadata": {
    "execution": {
     "iopub.execute_input": "2024-07-31T04:49:43.466189Z",
     "iopub.status.busy": "2024-07-31T04:49:43.465466Z",
     "iopub.status.idle": "2024-07-31T04:49:43.476866Z",
     "shell.execute_reply": "2024-07-31T04:49:43.475812Z"
    },
    "papermill": {
     "duration": 0.024374,
     "end_time": "2024-07-31T04:49:43.479131",
     "exception": false,
     "start_time": "2024-07-31T04:49:43.454757",
     "status": "completed"
    },
    "tags": []
   },
   "outputs": [],
   "source": [
    "# Датасет\n",
    "class CustomAudioDataset(Dataset):\n",
    "    def __init__(self, paths, labels, rate, target_length=480000, transform=None):\n",
    "        self.paths = paths\n",
    "        self.labels = labels\n",
    "        self.rate = rate\n",
    "        self.target_length = target_length\n",
    "        self.transform = transform\n",
    "    def __len__(self):\n",
    "        return len(self.labels)\n",
    "    def __getitem__(self, idx):\n",
    "        waveform = self.length_processing(idx)\n",
    "        if self.transform:\n",
    "            waveform = self.transform(waveform)\n",
    "        label = self.labels[idx]\n",
    "        return waveform, label, idx\n",
    "    # Приведение к нужным хар-кам и длине\n",
    "    def length_processing(self, idx):\n",
    "        waveform, sample_rate = torchaudio.load(self.paths[idx])\n",
    "        waveform = waveform.mean(dim=0, keepdim=True)\n",
    "        if sample_rate != self.rate:\n",
    "            waveform = torchaudio.functional.resample(waveform, sample_rate, self.rate)\n",
    "        current_length = waveform.shape[1]\n",
    "        if current_length > self.target_length:\n",
    "            waveform = waveform[:, :self.target_length]\n",
    "        elif current_length < self.target_length:\n",
    "            waveform = torch.nn.functional.pad(waveform, (0, self.target_length - current_length))\n",
    "        return waveform.mean(dim=0)"
   ]
  },
  {
   "cell_type": "code",
   "execution_count": 11,
   "id": "2537647c",
   "metadata": {
    "execution": {
     "iopub.execute_input": "2024-07-31T04:49:43.498547Z",
     "iopub.status.busy": "2024-07-31T04:49:43.498145Z",
     "iopub.status.idle": "2024-07-31T04:49:43.506190Z",
     "shell.execute_reply": "2024-07-31T04:49:43.505134Z"
    },
    "papermill": {
     "duration": 0.020669,
     "end_time": "2024-07-31T04:49:43.508676",
     "exception": false,
     "start_time": "2024-07-31T04:49:43.488007",
     "status": "completed"
    },
    "tags": []
   },
   "outputs": [
    {
     "data": {
      "text/plain": [
       "145"
      ]
     },
     "execution_count": 11,
     "metadata": {},
     "output_type": "execute_result"
    }
   ],
   "source": [
    "test_audio_dataset = CustomAudioDataset(data[\"path\"].tolist(), data[\"label\"].tolist(), 16000)\n",
    "test_dataloader = DataLoader(test_audio_dataset, batch_size=4, shuffle=False)\n",
    "len(test_dataloader)"
   ]
  },
  {
   "cell_type": "code",
   "execution_count": 12,
   "id": "e2d489bd",
   "metadata": {
    "execution": {
     "iopub.execute_input": "2024-07-31T04:49:43.529065Z",
     "iopub.status.busy": "2024-07-31T04:49:43.528676Z",
     "iopub.status.idle": "2024-07-31T04:49:46.638328Z",
     "shell.execute_reply": "2024-07-31T04:49:46.637451Z"
    },
    "papermill": {
     "duration": 3.122345,
     "end_time": "2024-07-31T04:49:46.640879",
     "exception": false,
     "start_time": "2024-07-31T04:49:43.518534",
     "status": "completed"
    },
    "tags": []
   },
   "outputs": [
    {
     "name": "stderr",
     "output_type": "stream",
     "text": [
      "Downloading: \"https://download.pytorch.org/torchaudio/models/wav2vec2_fairseq_base_ls960.pth\" to /root/.cache/torch/hub/checkpoints/wav2vec2_fairseq_base_ls960.pth\n",
      "100%|██████████| 360M/360M [00:01<00:00, 243MB/s]\n"
     ]
    }
   ],
   "source": [
    "# Получение модели\n",
    "bundle = torchaudio.pipelines.WAV2VEC2_BASE\n",
    "model = bundle.get_model()\n",
    "\n",
    "# Класс модели\n",
    "class CustomAudioModel(nn.Module):\n",
    "    def __init__(self, model, num_classes):\n",
    "        super().__init__()\n",
    "        self.model = model\n",
    "        self.num_classes = num_classes\n",
    "        self.num_features = model.encoder.transformer.layers[-1].final_layer_norm.normalized_shape[0]\n",
    "        self.linear_stack = nn.Sequential(\n",
    "            nn.Linear(self.num_features, 64),\n",
    "            nn.ReLU(),\n",
    "            nn.Linear(64, self.num_classes),\n",
    "        )\n",
    "    def forward(self, x):\n",
    "        x = self.model(x)\n",
    "        x = x[0].mean(dim=1)\n",
    "        x = self.linear_stack(x)\n",
    "        return x"
   ]
  },
  {
   "cell_type": "code",
   "execution_count": 13,
   "id": "3c4733ae",
   "metadata": {
    "execution": {
     "iopub.execute_input": "2024-07-31T04:49:46.663658Z",
     "iopub.status.busy": "2024-07-31T04:49:46.662975Z",
     "iopub.status.idle": "2024-07-31T04:49:46.677551Z",
     "shell.execute_reply": "2024-07-31T04:49:46.676691Z"
    },
    "papermill": {
     "duration": 0.028463,
     "end_time": "2024-07-31T04:49:46.679786",
     "exception": false,
     "start_time": "2024-07-31T04:49:46.651323",
     "status": "completed"
    },
    "tags": []
   },
   "outputs": [],
   "source": [
    "# Получение метрик по классам\n",
    "def compute_metrics(preds, labels):\n",
    "    p, r, f1, _ = precision_recall_fscore_support(labels, preds, average=None, labels=[0, 1, 2])\n",
    "    return p, r, f1\n",
    "\n",
    "# Функция для тестирования\n",
    "def eval_epoch(model, loss_fn, dataloader):\n",
    "    model.eval()\n",
    "    sum_recall = 0\n",
    "    sum_precision = 0\n",
    "    sum_f1 = 0\n",
    "    sum_loss = 0\n",
    "    all_preds = []\n",
    "    all_labels = []\n",
    "    pbar = tqdm(dataloader, ascii=True, desc='Val')\n",
    "    with torch.no_grad():\n",
    "        for i, (samples, labels, idx) in enumerate(pbar):\n",
    "            samples, labels = samples.to(device), labels.to(device)\n",
    "            pred = model(samples)\n",
    "            loss = loss_fn(pred, labels)\n",
    "            sum_loss += loss.item()\n",
    "            \n",
    "            _, predicted_labels = torch.max(pred, 1)\n",
    "            all_preds.extend(predicted_labels.cpu().numpy())\n",
    "            all_labels.extend(labels.cpu().numpy())\n",
    "            precision = precision_score(labels.cpu(), predicted_labels.cpu(), zero_division=0, average='micro')\n",
    "            recall = recall_score(labels.cpu(), predicted_labels.cpu(), zero_division=0, average='micro')\n",
    "            f1 = f1_score(labels.cpu(), predicted_labels.cpu(), zero_division=0, average='micro')\n",
    "            sum_precision += precision\n",
    "            sum_recall += recall\n",
    "            sum_f1 += f1\n",
    "            \n",
    "    avg_recall = sum_recall / len(dataloader)\n",
    "    avg_precision = sum_precision / len(dataloader)\n",
    "    avg_f1 = sum_f1 / len(dataloader)\n",
    "    avg_loss = sum_loss / len(dataloader)\n",
    "    print(f\"Eval Loss: {avg_loss}\")\n",
    "    precision, recall, f1 = compute_metrics(all_preds, all_labels)\n",
    "    for j, (p, r, f) in enumerate(zip(precision, recall, f1)):\n",
    "        print(f\"Class {j} - Precision: {p:.4f}, Recall: {r:.4f}, F1-score: {f:.4f}\")\n",
    "    print(f\"Average - Precision: {avg_precision:.4f}, Recall: {avg_recall:.4f}, F1 score: {avg_f1:.4f}\")\n",
    "    return avg_loss, all_preds, all_labels"
   ]
  },
  {
   "cell_type": "code",
   "execution_count": 14,
   "id": "60df5253",
   "metadata": {
    "execution": {
     "iopub.execute_input": "2024-07-31T04:49:46.703108Z",
     "iopub.status.busy": "2024-07-31T04:49:46.702302Z",
     "iopub.status.idle": "2024-07-31T04:49:46.768140Z",
     "shell.execute_reply": "2024-07-31T04:49:46.767103Z"
    },
    "papermill": {
     "duration": 0.079654,
     "end_time": "2024-07-31T04:49:46.770363",
     "exception": false,
     "start_time": "2024-07-31T04:49:46.690709",
     "status": "completed"
    },
    "tags": []
   },
   "outputs": [
    {
     "data": {
      "text/plain": [
       "'cuda:0'"
      ]
     },
     "execution_count": 14,
     "metadata": {},
     "output_type": "execute_result"
    }
   ],
   "source": [
    "device = ('cuda:0' if torch.cuda.is_available() else 'cpu')\n",
    "device"
   ]
  },
  {
   "cell_type": "markdown",
   "id": "708e8c14",
   "metadata": {
    "papermill": {
     "duration": 0.010209,
     "end_time": "2024-07-31T04:49:46.791292",
     "exception": false,
     "start_time": "2024-07-31T04:49:46.781083",
     "status": "completed"
    },
    "tags": []
   },
   "source": [
    "# Testing"
   ]
  },
  {
   "cell_type": "code",
   "execution_count": 15,
   "id": "02d1ab81",
   "metadata": {
    "execution": {
     "iopub.execute_input": "2024-07-31T04:49:46.815252Z",
     "iopub.status.busy": "2024-07-31T04:49:46.814313Z",
     "iopub.status.idle": "2024-07-31T04:49:50.254225Z",
     "shell.execute_reply": "2024-07-31T04:49:50.253202Z"
    },
    "papermill": {
     "duration": 3.454531,
     "end_time": "2024-07-31T04:49:50.256755",
     "exception": false,
     "start_time": "2024-07-31T04:49:46.802224",
     "status": "completed"
    },
    "tags": []
   },
   "outputs": [
    {
     "data": {
      "text/plain": [
       "<All keys matched successfully>"
      ]
     },
     "execution_count": 15,
     "metadata": {},
     "output_type": "execute_result"
    }
   ],
   "source": [
    "torch.cuda.empty_cache()\n",
    "custom_model = CustomAudioModel(model, 3)\n",
    "custom_model = custom_model.to(device)\n",
    "\n",
    "weights = torch.tensor([1.0, 1.0, 1.0]).to(device)\n",
    "loss_function = nn.CrossEntropyLoss(weight=weights)\n",
    "\n",
    "model_path = \"/kaggle/input/wolf_dog_sound_recognition/pytorch/filtred_wolf_no_weights_not_full_zero/1/best_model (2).pth\"\n",
    "custom_model.load_state_dict(torch.load(model_path))"
   ]
  },
  {
   "cell_type": "code",
   "execution_count": 16,
   "id": "0a1b7007",
   "metadata": {
    "execution": {
     "iopub.execute_input": "2024-07-31T04:49:50.280285Z",
     "iopub.status.busy": "2024-07-31T04:49:50.279906Z",
     "iopub.status.idle": "2024-07-31T04:51:02.575150Z",
     "shell.execute_reply": "2024-07-31T04:51:02.573437Z"
    },
    "papermill": {
     "duration": 72.310122,
     "end_time": "2024-07-31T04:51:02.577793",
     "exception": false,
     "start_time": "2024-07-31T04:49:50.267671",
     "status": "completed"
    },
    "tags": []
   },
   "outputs": [
    {
     "data": {
      "application/vnd.jupyter.widget-view+json": {
       "model_id": "70d1f7b7fcdd45c1a4040c9d984f1323",
       "version_major": 2,
       "version_minor": 0
      },
      "text/plain": [
       "Val:   0%|          | 0/145 [00:00<?, ?it/s]"
      ]
     },
     "metadata": {},
     "output_type": "display_data"
    },
    {
     "name": "stdout",
     "output_type": "stream",
     "text": [
      "Eval Loss: 0.5459689466957132\n",
      "Class 0 - Precision: 0.7988, Recall: 0.6788, F1-score: 0.7339\n",
      "Class 1 - Precision: 1.0000, Recall: 0.8446, F1-score: 0.9157\n",
      "Class 2 - Precision: 0.7381, Recall: 0.9637, F1-score: 0.8360\n",
      "Average - Precision: 0.8293, Recall: 0.8293, F1 score: 0.8293\n"
     ]
    }
   ],
   "source": [
    "val_loss, all_preds, all_labels = eval_epoch(custom_model, loss_function, test_dataloader)"
   ]
  },
  {
   "cell_type": "markdown",
   "id": "fa3c7aa8",
   "metadata": {
    "papermill": {
     "duration": 0.011142,
     "end_time": "2024-07-31T04:51:02.601650",
     "exception": false,
     "start_time": "2024-07-31T04:51:02.590508",
     "status": "completed"
    },
    "tags": []
   },
   "source": [
    "# Confusion matrix"
   ]
  },
  {
   "cell_type": "code",
   "execution_count": 17,
   "id": "2a1d73d3",
   "metadata": {
    "execution": {
     "iopub.execute_input": "2024-07-31T04:51:02.625996Z",
     "iopub.status.busy": "2024-07-31T04:51:02.625623Z",
     "iopub.status.idle": "2024-07-31T04:51:03.399186Z",
     "shell.execute_reply": "2024-07-31T04:51:03.398092Z"
    },
    "papermill": {
     "duration": 0.78905,
     "end_time": "2024-07-31T04:51:03.401917",
     "exception": false,
     "start_time": "2024-07-31T04:51:02.612867",
     "status": "completed"
    },
    "tags": []
   },
   "outputs": [
    {
     "data": {
      "image/png": "[encoded data removed]",
      "text/plain": [
       "<Figure size 1000x700 with 2 Axes>"
      ]
     },
     "metadata": {},
     "output_type": "display_data"
    }
   ],
   "source": [
    "from sklearn.metrics import confusion_matrix\n",
    "import matplotlib.pyplot as plt\n",
    "import seaborn as sns\n",
    "cm = confusion_matrix(all_labels, all_preds)\n",
    "\n",
    "plt.figure(figsize=(10, 7))\n",
    "sns.heatmap(cm, annot=True, fmt='d', cmap='Blues', xticklabels=['Predicted negative', 'Predicted dog', 'Predicted wolf'], yticklabels=['Actual negative', 'Actual dog', 'Actual wolf'], annot_kws={\"size\": 20})\n",
    "plt.xticks(fontsize=15)\n",
    "plt.yticks(fontsize=15)\n",
    "plt.title('Confusion Matrix', fontsize=25)\n",
    "plt.show()"
   ]
  }
 ],
 "metadata": {
  "kaggle": {
   "accelerator": "gpu",
   "dataSources": [
    {
     "datasetId": 5432323,
     "sourceId": 9040266,
     "sourceType": "datasetVersion"
    },
    {
     "modelId": 93244,
     "modelInstanceId": 68084,
     "sourceId": 81020,
     "sourceType": "modelInstanceVersion"
    },
    {
     "modelId": 93244,
     "modelInstanceId": 68384,
     "sourceId": 81375,
     "sourceType": "modelInstanceVersion"
    },
    {
     "modelId": 93244,
     "modelInstanceId": 68534,
     "sourceId": 81549,
     "sourceType": "modelInstanceVersion"
    },
    {
     "modelId": 93244,
     "modelInstanceId": 69061,
     "sourceId": 82199,
     "sourceType": "modelInstanceVersion"
    },
    {
     "modelId": 93244,
     "modelInstanceId": 68534,
     "sourceId": 82307,
     "sourceType": "modelInstanceVersion"
    },
    {
     "isSourceIdPinned": true,
     "modelId": 93244,
     "modelInstanceId": 70528,
     "sourceId": 83973,
     "sourceType": "modelInstanceVersion"
    },
    {
     "isSourceIdPinned": true,
     "modelId": 93244,
     "modelInstanceId": 70652,
     "sourceId": 84114,
     "sourceType": "modelInstanceVersion"
    },
    {
     "isSourceIdPinned": true,
     "modelId": 93244,
     "modelInstanceId": 70764,
     "sourceId": 84244,
     "sourceType": "modelInstanceVersion"
    },
    {
     "isSourceIdPinned": true,
     "modelId": 93244,
     "modelInstanceId": 70880,
     "sourceId": 84378,
     "sourceType": "modelInstanceVersion"
    },
    {
     "isSourceIdPinned": true,
     "modelId": 93244,
     "modelInstanceId": 70883,
     "sourceId": 84381,
     "sourceType": "modelInstanceVersion"
    },
    {
     "isSourceIdPinned": true,
     "modelId": 94648,
     "modelInstanceId": 69510,
     "sourceId": 82748,
     "sourceType": "modelInstanceVersion"
    }
   ],
   "dockerImageVersionId": 30747,
   "isGpuEnabled": true,
   "isInternetEnabled": true,
   "language": "python",
   "sourceType": "notebook"
  },
  "kernelspec": {
   "display_name": "Python 3",
   "language": "python",
   "name": "python3"
  },
  "language_info": {
   "codemirror_mode": {
    "name": "ipython",
    "version": 3
   },
   "file_extension": ".py",
   "mimetype": "text/x-python",
   "name": "python",
   "nbconvert_exporter": "python",
   "pygments_lexer": "ipython3",
   "version": "3.10.13"
  },
  "papermill": {
   "default_parameters": {},
   "duration": 92.394369,
   "end_time": "2024-07-31T04:51:05.138926",
   "environment_variables": {},
   "exception": null,
   "input_path": "__notebook__.ipynb",
   "output_path": "__notebook__.ipynb",
   "parameters": {},
   "start_time": "2024-07-31T04:49:32.744557",
   "version": "2.5.0"
  },
  "widgets": {
   "application/vnd.jupyter.widget-state+json": {
    "state": {
     "2d4094294ed14683b0ed0e3f6a0c5069": {
      "model_module": "@jupyter-widgets/controls",
      "model_module_version": "1.5.0",
      "model_name": "ProgressStyleModel",
      "state": {
       "_model_module": "@jupyter-widgets/controls",
       "_model_module_version": "1.5.0",
       "_model_name": "ProgressStyleModel",
       "_view_count": null,
       "_view_module": "@jupyter-widgets/base",
       "_view_module_version": "1.2.0",
       "_view_name": "StyleView",
       "bar_color": null,
       "description_width": ""
      }
     },
     "2e208d21bb824144a254d8360be9b3de": {
      "model_module": "@jupyter-widgets/base",
      "model_module_version": "1.2.0",
      "model_name": "LayoutModel",
      "state": {
       "_model_module": "@jupyter-widgets/base",
       "_model_module_version": "1.2.0",
       "_model_name": "LayoutModel",
       "_view_count": null,
       "_view_module": "@jupyter-widgets/base",
       "_view_module_version": "1.2.0",
       "_view_name": "LayoutView",
       "align_content": null,
       "align_items": null,
       "align_self": null,
       "border": null,
       "bottom": null,
       "display": null,
       "flex": null,
       "flex_flow": null,
       "grid_area": null,
       "grid_auto_columns": null,
       "grid_auto_flow": null,
       "grid_auto_rows": null,
       "grid_column": null,
       "grid_gap": null,
       "grid_row": null,
       "grid_template_areas": null,
       "grid_template_columns": null,
       "grid_template_rows": null,
       "height": null,
       "justify_content": null,
       "justify_items": null,
       "left": null,
       "margin": null,
       "max_height": null,
       "max_width": null,
       "min_height": null,
       "min_width": null,
       "object_fit": null,
       "object_position": null,
       "order": null,
       "overflow": null,
       "overflow_x": null,
       "overflow_y": null,
       "padding": null,
       "right": null,
       "top": null,
       "visibility": null,
       "width": null
      }
     },
     "48c6ef60886642e08d919957fee450cb": {
      "model_module": "@jupyter-widgets/controls",
      "model_module_version": "1.5.0",
      "model_name": "FloatProgressModel",
      "state": {
       "_dom_classes": [],
       "_model_module": "@jupyter-widgets/controls",
       "_model_module_version": "1.5.0",
       "_model_name": "FloatProgressModel",
       "_view_count": null,
       "_view_module": "@jupyter-widgets/controls",
       "_view_module_version": "1.5.0",
       "_view_name": "ProgressView",
       "bar_style": "success",
       "description": "",
       "description_tooltip": null,
       "layout": "IPY_MODEL_b7b4121975b94576852ff4d7b85a9aaf",
       "max": 145.0,
       "min": 0.0,
       "orientation": "horizontal",
       "style": "IPY_MODEL_2d4094294ed14683b0ed0e3f6a0c5069",
       "value": 145.0
      }
     },
     "6dd133bceda247f69071ca35a6537272": {
      "model_module": "@jupyter-widgets/controls",
      "model_module_version": "1.5.0",
      "model_name": "DescriptionStyleModel",
      "state": {
       "_model_module": "@jupyter-widgets/controls",
       "_model_module_version": "1.5.0",
       "_model_name": "DescriptionStyleModel",
       "_view_count": null,
       "_view_module": "@jupyter-widgets/base",
       "_view_module_version": "1.2.0",
       "_view_name": "StyleView",
       "description_width": ""
      }
     },
     "70d1f7b7fcdd45c1a4040c9d984f1323": {
      "model_module": "@jupyter-widgets/controls",
      "model_module_version": "1.5.0",
      "model_name": "HBoxModel",
      "state": {
       "_dom_classes": [],
       "_model_module": "@jupyter-widgets/controls",
       "_model_module_version": "1.5.0",
       "_model_name": "HBoxModel",
       "_view_count": null,
       "_view_module": "@jupyter-widgets/controls",
       "_view_module_version": "1.5.0",
       "_view_name": "HBoxView",
       "box_style": "",
       "children": [
        "IPY_MODEL_770caea095404ade963796641ada5398",
        "IPY_MODEL_48c6ef60886642e08d919957fee450cb",
        "IPY_MODEL_c8ed304575b642889d8531a824fcc615"
       ],
       "layout": "IPY_MODEL_dc3340cc065c4c45a626f160145b2e4a"
      }
     },
     "770caea095404ade963796641ada5398": {
      "model_module": "@jupyter-widgets/controls",
      "model_module_version": "1.5.0",
      "model_name": "HTMLModel",
      "state": {
       "_dom_classes": [],
       "_model_module": "@jupyter-widgets/controls",
       "_model_module_version": "1.5.0",
       "_model_name": "HTMLModel",
       "_view_count": null,
       "_view_module": "@jupyter-widgets/controls",
       "_view_module_version": "1.5.0",
       "_view_name": "HTMLView",
       "description": "",
       "description_tooltip": null,
       "layout": "IPY_MODEL_2e208d21bb824144a254d8360be9b3de",
       "placeholder": "​",
       "style": "IPY_MODEL_6dd133bceda247f69071ca35a6537272",
       "value": "Val: 100%"
      }
     },
     "b7b4121975b94576852ff4d7b85a9aaf": {
      "model_module": "@jupyter-widgets/base",
      "model_module_version": "1.2.0",
      "model_name": "LayoutModel",
      "state": {
       "_model_module": "@jupyter-widgets/base",
       "_model_module_version": "1.2.0",
       "_model_name": "LayoutModel",
       "_view_count": null,
       "_view_module": "@jupyter-widgets/base",
       "_view_module_version": "1.2.0",
       "_view_name": "LayoutView",
       "align_content": null,
       "align_items": null,
       "align_self": null,
       "border": null,
       "bottom": null,
       "display": null,
       "flex": null,
       "flex_flow": null,
       "grid_area": null,
       "grid_auto_columns": null,
       "grid_auto_flow": null,
       "grid_auto_rows": null,
       "grid_column": null,
       "grid_gap": null,
       "grid_row": null,
       "grid_template_areas": null,
       "grid_template_columns": null,
       "grid_template_rows": null,
       "height": null,
       "justify_content": null,
       "justify_items": null,
       "left": null,
       "margin": null,
       "max_height": null,
       "max_width": null,
       "min_height": null,
       "min_width": null,
       "object_fit": null,
       "object_position": null,
       "order": null,
       "overflow": null,
       "overflow_x": null,
       "overflow_y": null,
       "padding": null,
       "right": null,
       "top": null,
       "visibility": null,
       "width": null
      }
     },
     "c8ed304575b642889d8531a824fcc615": {
      "model_module": "@jupyter-widgets/controls",
      "model_module_version": "1.5.0",
      "model_name": "HTMLModel",
      "state": {
       "_dom_classes": [],
       "_model_module": "@jupyter-widgets/controls",
       "_model_module_version": "1.5.0",
       "_model_name": "HTMLModel",
       "_view_count": null,
       "_view_module": "@jupyter-widgets/controls",
       "_view_module_version": "1.5.0",
       "_view_name": "HTMLView",
       "description": "",
       "description_tooltip": null,
       "layout": "IPY_MODEL_d4b76adbb5414584b3f308c4bccfb506",
       "placeholder": "​",
       "style": "IPY_MODEL_eff68801965d4d3681e3a948c29c5a7e",
       "value": " 145/145 [01:12&lt;00:00,  2.19it/s]"
      }
     },
     "d4b76adbb5414584b3f308c4bccfb506": {
      "model_module": "@jupyter-widgets/base",
      "model_module_version": "1.2.0",
      "model_name": "LayoutModel",
      "state": {
       "_model_module": "@jupyter-widgets/base",
       "_model_module_version": "1.2.0",
       "_model_name": "LayoutModel",
       "_view_count": null,
       "_view_module": "@jupyter-widgets/base",
       "_view_module_version": "1.2.0",
       "_view_name": "LayoutView",
       "align_content": null,
       "align_items": null,
       "align_self": null,
       "border": null,
       "bottom": null,
       "display": null,
       "flex": null,
       "flex_flow": null,
       "grid_area": null,
       "grid_auto_columns": null,
       "grid_auto_flow": null,
       "grid_auto_rows": null,
       "grid_column": null,
       "grid_gap": null,
       "grid_row": null,
       "grid_template_areas": null,
       "grid_template_columns": null,
       "grid_template_rows": null,
       "height": null,
       "justify_content": null,
       "justify_items": null,
       "left": null,
       "margin": null,
       "max_height": null,
       "max_width": null,
       "min_height": null,
       "min_width": null,
       "object_fit": null,
       "object_position": null,
       "order": null,
       "overflow": null,
       "overflow_x": null,
       "overflow_y": null,
       "padding": null,
       "right": null,
       "top": null,
       "visibility": null,
       "width": null
      }
     },
     "dc3340cc065c4c45a626f160145b2e4a": {
      "model_module": "@jupyter-widgets/base",
      "model_module_version": "1.2.0",
      "model_name": "LayoutModel",
      "state": {
       "_model_module": "@jupyter-widgets/base",
       "_model_module_version": "1.2.0",
       "_model_name": "LayoutModel",
       "_view_count": null,
       "_view_module": "@jupyter-widgets/base",
       "_view_module_version": "1.2.0",
       "_view_name": "LayoutView",
       "align_content": null,
       "align_items": null,
       "align_self": null,
       "border": null,
       "bottom": null,
       "display": null,
       "flex": null,
       "flex_flow": null,
       "grid_area": null,
       "grid_auto_columns": null,
       "grid_auto_flow": null,
       "grid_auto_rows": null,
       "grid_column": null,
       "grid_gap": null,
       "grid_row": null,
       "grid_template_areas": null,
       "grid_template_columns": null,
       "grid_template_rows": null,
       "height": null,
       "justify_content": null,
       "justify_items": null,
       "left": null,
       "margin": null,
       "max_height": null,
       "max_width": null,
       "min_height": null,
       "min_width": null,
       "object_fit": null,
       "object_position": null,
       "order": null,
       "overflow": null,
       "overflow_x": null,
       "overflow_y": null,
       "padding": null,
       "right": null,
       "top": null,
       "visibility": null,
       "width": null
      }
     },
     "eff68801965d4d3681e3a948c29c5a7e": {
      "model_module": "@jupyter-widgets/controls",
      "model_module_version": "1.5.0",
      "model_name": "DescriptionStyleModel",
      "state": {
       "_model_module": "@jupyter-widgets/controls",
       "_model_module_version": "1.5.0",
       "_model_name": "DescriptionStyleModel",
       "_view_count": null,
       "_view_module": "@jupyter-widgets/base",
       "_view_module_version": "1.2.0",
       "_view_name": "StyleView",
       "description_width": ""
      }
     }
    },
    "version_major": 2,
    "version_minor": 0
   }
  }
 },
 "nbformat": 4,
 "nbformat_minor": 5
}
