{
 "cells": [
  {
   "cell_type": "code",
   "execution_count": 16,
   "metadata": {},
   "outputs": [],
   "source": [
    "import numpy as np\n",
    "import pandas as pd\n",
    "import torch\n",
    "import librosa\n",
    "import os\n",
    "import soundfile as sf"
   ]
  },
  {
   "cell_type": "code",
   "execution_count": 17,
   "metadata": {},
   "outputs": [],
   "source": [
    "def clear_noise(waveform, alpha=2):        \n",
    "    waveform = librosa.util.normalize(np.array(waveform))\n",
    "    noisy_spectrum = np.abs(librosa.stft(waveform))        \n",
    "    noise_spectrum = np.mean(noisy_spectrum, axis=1)\n",
    "    clean_spectrum = np.maximum(noisy_spectrum - alpha * noise_spectrum[:, np.newaxis], 0)        \n",
    "    clean_audio = librosa.istft(clean_spectrum)\n",
    "    return torch.tensor(clean_audio)"
   ]
  },
  {
   "cell_type": "code",
   "execution_count": 20,
   "metadata": {},
   "outputs": [
    {
     "data": {
      "text/html": [
       "<div>\n",
       "<style scoped>\n",
       "    .dataframe tbody tr th:only-of-type {\n",
       "        vertical-align: middle;\n",
       "    }\n",
       "\n",
       "    .dataframe tbody tr th {\n",
       "        vertical-align: top;\n",
       "    }\n",
       "\n",
       "    .dataframe thead th {\n",
       "        text-align: right;\n",
       "    }\n",
       "</style>\n",
       "<table border=\"1\" class=\"dataframe\">\n",
       "  <thead>\n",
       "    <tr style=\"text-align: right;\">\n",
       "      <th></th>\n",
       "      <th>path</th>\n",
       "      <th>label</th>\n",
       "      <th>sub_class</th>\n",
       "    </tr>\n",
       "  </thead>\n",
       "  <tbody>\n",
       "    <tr>\n",
       "      <th>0</th>\n",
       "      <td>dataset_no_noize/dog/Dog/--7jZxfzemI.wav</td>\n",
       "      <td>dog</td>\n",
       "      <td>Dog</td>\n",
       "    </tr>\n",
       "    <tr>\n",
       "      <th>1</th>\n",
       "      <td>dataset_no_noize/dog/Dog/--CE2f-ttEQ.wav</td>\n",
       "      <td>dog</td>\n",
       "      <td>Dog</td>\n",
       "    </tr>\n",
       "    <tr>\n",
       "      <th>2</th>\n",
       "      <td>dataset_no_noize/dog/Dog/--ERHDSdxGQ.wav</td>\n",
       "      <td>dog</td>\n",
       "      <td>Dog</td>\n",
       "    </tr>\n",
       "    <tr>\n",
       "      <th>3</th>\n",
       "      <td>dataset_no_noize/dog/Dog/--L22BmDI6E.wav</td>\n",
       "      <td>dog</td>\n",
       "      <td>Dog</td>\n",
       "    </tr>\n",
       "    <tr>\n",
       "      <th>4</th>\n",
       "      <td>dataset_no_noize/dog/Dog/--sIMPsphRI.wav</td>\n",
       "      <td>dog</td>\n",
       "      <td>Dog</td>\n",
       "    </tr>\n",
       "  </tbody>\n",
       "</table>\n",
       "</div>"
      ],
      "text/plain": [
       "                                       path label sub_class\n",
       "0  dataset_no_noize/dog/Dog/--7jZxfzemI.wav   dog       Dog\n",
       "1  dataset_no_noize/dog/Dog/--CE2f-ttEQ.wav   dog       Dog\n",
       "2  dataset_no_noize/dog/Dog/--ERHDSdxGQ.wav   dog       Dog\n",
       "3  dataset_no_noize/dog/Dog/--L22BmDI6E.wav   dog       Dog\n",
       "4  dataset_no_noize/dog/Dog/--sIMPsphRI.wav   dog       Dog"
      ]
     },
     "execution_count": 20,
     "metadata": {},
     "output_type": "execute_result"
    }
   ],
   "source": [
    "df = pd.read_csv(\"file_info.csv\")\n",
    "df['path'] = df['path'].str.replace('dataset/', 'dataset_no_noize/')\n",
    "df.head(5)"
   ]
  },
  {
   "cell_type": "code",
   "execution_count": 19,
   "metadata": {},
   "outputs": [],
   "source": [
    "for index, row in df.iterrows():\n",
    "    path = row['path']\n",
    "    if os.path.exists(path):\n",
    "        y, sr = librosa.load(path, sr=None)\n",
    "        y = clear_noise(y)\n",
    "        sf.write(path, y, sr)\n",
    "    else:\n",
    "        print(path, \"Fail\")"
   ]
  },
  {
   "cell_type": "code",
   "execution_count": null,
   "metadata": {},
   "outputs": [],
   "source": [
    "df.to_csv('file_info.csv', index=False)"
   ]
  }
 ],
 "metadata": {
  "kernelspec": {
   "display_name": "Python 3",
   "language": "python",
   "name": "python3"
  },
  "language_info": {
   "codemirror_mode": {
    "name": "ipython",
    "version": 3
   },
   "file_extension": ".py",
   "mimetype": "text/x-python",
   "name": "python",
   "nbconvert_exporter": "python",
   "pygments_lexer": "ipython3",
   "version": "3.12.3"
  }
 },
 "nbformat": 4,
 "nbformat_minor": 2
}
